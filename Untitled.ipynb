{
 "cells": [
  {
   "cell_type": "code",
   "execution_count": 1,
   "metadata": {},
   "outputs": [
    {
     "name": "stdout",
     "output_type": "stream",
     "text": [
      "1\n",
      "Hi\n",
      "2\n",
      "Hello\n",
      "3\n",
      "Hello\n",
      "4\n",
      "Hello\n",
      "All Done\n"
     ]
    }
   ],
   "source": [
    "for count in range(1,5):\n",
    "    print(count)\n",
    "    if count > 1:\n",
    "        print(\"Hello\")\n",
    "    elif count <= 3:\n",
    "        print(\"Hi\")\n",
    "    else:\n",
    "        print(\"*\")\n",
    "\n",
    "print(\"All Done\")"
   ]
  },
  {
   "cell_type": "code",
   "execution_count": 9,
   "metadata": {},
   "outputs": [
    {
     "name": "stdout",
     "output_type": "stream",
     "text": [
      "third\n"
     ]
    }
   ],
   "source": [
    "my_list = [10,30,40]\n",
    "\n",
    "if my_list[1] < 20:\n",
    "   print('first')\n",
    "elif len(my_list) == 2:\n",
    "   print('second')\n",
    "elif my_list[0] + 25 > my_list[1]:\n",
    "   print('third')\n",
    "elif len(my_list) > 1:\n",
    "   print('fourth')\n",
    "\n"
   ]
  },
  {
   "cell_type": "code",
   "execution_count": null,
   "metadata": {},
   "outputs": [],
   "source": []
  },
  {
   "cell_type": "code",
   "execution_count": null,
   "metadata": {},
   "outputs": [],
   "source": []
  }
 ],
 "metadata": {
  "kernelspec": {
   "display_name": "Python 3",
   "language": "python",
   "name": "python3"
  },
  "language_info": {
   "codemirror_mode": {
    "name": "ipython",
    "version": 3
   },
   "file_extension": ".py",
   "mimetype": "text/x-python",
   "name": "python",
   "nbconvert_exporter": "python",
   "pygments_lexer": "ipython3",
   "version": "3.7.1"
  }
 },
 "nbformat": 4,
 "nbformat_minor": 2
}
